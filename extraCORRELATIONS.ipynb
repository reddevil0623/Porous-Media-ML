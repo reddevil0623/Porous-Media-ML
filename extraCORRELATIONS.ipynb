{
 "cells": [
  {
   "cell_type": "code",
   "execution_count": 2,
   "metadata": {},
   "outputs": [],
   "source": [
    "import numpy as np\n",
    "import numpy.polynomial.polynomial as npl\n",
    "import matplotlib.pyplot as plt\n",
    "import statsmodels.api as sm\n",
    "import statsmodels.graphics.api as smg\n",
    "import pickle\n",
    "from sklearn.linear_model import LinearRegression as LR\n",
    "from sklearn.metrics import mean_squared_error as MSE\n",
    "from sklearn.metrics import r2_score as r2"
   ]
  },
  {
   "cell_type": "code",
   "execution_count": 3,
   "metadata": {},
   "outputs": [],
   "source": [
    "prtest = np.array(pickle.load(open('/Users/harrylinehan-hill/Documents/Programming/porous_rock_images_test.pkl', 'rb')))\n",
    "#testing set - images stored as 50 x 50 arrays\n",
    "ftest = np.array(pickle.load(open('/Users/harrylinehan-hill/Documents/Programming/flux_test.pkl', 'rb')))\n",
    "#testing set - fluxes\n",
    "ft = np.array(pickle.load(open('/Users/harrylinehan-hill/Documents/Programming/flux_train.pkl', 'rb')))\n",
    "#training set - images stored as 50 x 50 arrays\n",
    "prt = np.array(pickle.load(open('/Users/harrylinehan-hill/Documents/Programming/porous_rock_images_train.pkl', 'rb')))\n",
    "#training set - fluxes\n",
    "ntest, ytest, xtest = prtest.shape\n",
    "nt, yt, xt =ntest, ytest, xtest\n",
    "n, y, x = prt.shape"
   ]
  },
  {
   "cell_type": "code",
   "execution_count": 4,
   "metadata": {},
   "outputs": [],
   "source": [
    "#mean square error - normalise data, then mean square error s = simulated, o = observed\n",
    "def nmse(s, o):\n",
    "    s = np.array(s)\n",
    "    o = np.array(o)\n",
    "    mean = o.mean()\n",
    "    std = o.std()\n",
    "    onorm = (o - mean)/std\n",
    "    snorm = (s - mean)/std\n",
    "    return np.dot(onorm-snorm,onorm-snorm)\n",
    "\n",
    "# r - squared\n",
    "def rsq(s, o):\n",
    "    s = np.array(s)\n",
    "    o = np.array(o)\n",
    "    mean = o.mean()\n",
    "    ssres = np.dot(s - o, s - o)\n",
    "    sstot = np.dot(o-mean,o-mean)\n",
    "    return 1 - ssres/sstot"
   ]
  },
  {
   "cell_type": "code",
   "execution_count": 5,
   "metadata": {},
   "outputs": [],
   "source": [
    "%store -r MEAN\n",
    "%store -r FLIPH0\n",
    "%store -r FLIPH1\n",
    "%store -r CUBEH0\n",
    "%store -r CUBEH1\n",
    "%store -r MSR500H0\n",
    "%store -r MSR500H1\n",
    "%store -r MSR1000H0\n",
    "%store -r MSR1000H1\n",
    "%store -r MSR1500H0\n",
    "%store -r MSR1500H1\n",
    "%store -r MSRPROPH0\n",
    "%store -r MSRPROPH1"
   ]
  },
  {
   "cell_type": "code",
   "execution_count": 57,
   "metadata": {},
   "outputs": [
    {
     "name": "stdout",
     "output_type": "stream",
     "text": [
      "Stored 'COLM' (ndarray)\n",
      "Stored 'COLMTEST' (ndarray)\n"
     ]
    }
   ],
   "source": [
    "#creating the 'column' vectors\n",
    "\n",
    "###train\n",
    "COLM = prt.sum(axis=1)\n",
    "%store COLM\n",
    "\n",
    "#test\n",
    "COLMTEST = prtest.sum(axis=1)\n",
    "%store COLMTEST"
   ]
  },
  {
   "cell_type": "code",
   "execution_count": 70,
   "metadata": {},
   "outputs": [],
   "source": [
    "COLMLESS = COLM[:,4:48]\n",
    "COLMLESSTEST = COLMTEST[:,4:48]"
   ]
  },
  {
   "cell_type": "code",
   "execution_count": 72,
   "metadata": {},
   "outputs": [
    {
     "name": "stdout",
     "output_type": "stream",
     "text": [
      "nmse =  28.318339384950114\n",
      "rsq =  0.8584083030752494\n"
     ]
    }
   ],
   "source": [
    "#linear regression and test mse and rsquared\n",
    "ytest = LR().fit(COLMLESS,np.array(ft)).predict(COLMLESSTEST)\n",
    "print('nmse = ', nmse(ytest, ftest))\n",
    "print('rsq = ', rsq(ytest,ftest))"
   ]
  },
  {
   "cell_type": "code",
   "execution_count": 73,
   "metadata": {},
   "outputs": [
    {
     "data": {
      "text/plain": [
       "(1000, 44)"
      ]
     },
     "execution_count": 73,
     "metadata": {},
     "output_type": "execute_result"
    }
   ],
   "source": [
    "COLMLESS.shape"
   ]
  },
  {
   "cell_type": "code",
   "execution_count": 74,
   "metadata": {},
   "outputs": [
    {
     "data": {
      "text/plain": [
       "(1000,)"
      ]
     },
     "execution_count": 74,
     "metadata": {},
     "output_type": "execute_result"
    }
   ],
   "source": [
    "MEAN.shape"
   ]
  },
  {
   "cell_type": "code",
   "execution_count": 86,
   "metadata": {},
   "outputs": [],
   "source": [
    "%store -r MEANTEST"
   ]
  },
  {
   "cell_type": "code",
   "execution_count": 84,
   "metadata": {},
   "outputs": [
    {
     "data": {
      "text/plain": [
       "array([[2.19494952e+00, 1.18324526e+01, 2.34306769e+01, ...,\n",
       "        2.29670924e-01, 1.89284254e-02, 9.13612154e+02],\n",
       "       [6.46856071e-01, 2.44121135e+00, 5.37353329e+00, ...,\n",
       "        4.12842971e-01, 3.60840846e-02, 9.71604049e+02],\n",
       "       [1.60507832e+00, 7.01312285e+00, 1.35722651e+01, ...,\n",
       "        1.42941683e+00, 9.57447548e-02, 1.06053428e+03],\n",
       "       ...,\n",
       "       [3.05435440e+00, 9.79433885e+00, 1.41482398e+01, ...,\n",
       "        1.03704601e+00, 6.61975742e-02, 9.52561956e+02],\n",
       "       [1.17838331e+00, 3.51936109e+00, 6.77632788e+00, ...,\n",
       "        3.07615927e-01, 3.57622077e-02, 9.02389109e+02],\n",
       "       [2.63515172e+00, 7.86643819e+00, 1.40673567e+01, ...,\n",
       "        2.46328209e-01, 2.20208487e-02, 1.09452559e+03]])"
      ]
     },
     "execution_count": 84,
     "metadata": {},
     "output_type": "execute_result"
    }
   ],
   "source": [
    "np.hstack((COLMLESS,np.array([MEAN]).T))"
   ]
  },
  {
   "cell_type": "code",
   "execution_count": 87,
   "metadata": {},
   "outputs": [
    {
     "name": "stdout",
     "output_type": "stream",
     "text": [
      "nmse =  28.27870135013891\n",
      "rsq =  0.8586064932493054\n"
     ]
    }
   ],
   "source": [
    "#linear regression and test mse and rsquared COLMLESS plus MEAN\n",
    "ytest = LR().fit(np.hstack((COLMLESS,np.array([MEAN]).T)),np.array(ft)).predict(np.hstack((COLMLESSTEST,np.array([MEANTEST]).T)))\n",
    "print('nmse = ', nmse(ytest, ftest))\n",
    "print('rsq = ', rsq(ytest,ftest))"
   ]
  },
  {
   "cell_type": "code",
   "execution_count": 49,
   "metadata": {},
   "outputs": [
    {
     "data": {
      "text/plain": [
       "<matplotlib.image.AxesImage at 0x7fda5495e820>"
      ]
     },
     "execution_count": 49,
     "metadata": {},
     "output_type": "execute_result"
    },
    {
     "data": {
      "image/png": "[encoded data removed]",
      "text/plain": [
       "<Figure size 640x480 with 1 Axes>"
      ]
     },
     "metadata": {},
     "output_type": "display_data"
    }
   ],
   "source": [
    "plt.imshow(prt[0])"
   ]
  },
  {
   "cell_type": "code",
   "execution_count": 14,
   "metadata": {},
   "outputs": [
    {
     "name": "stdout",
     "output_type": "stream",
     "text": [
      "nmse =  29.223272630675737\n",
      "rsq =  0.8538836368466213\n"
     ]
    }
   ],
   "source": [
    "#linear regression and test mse and rsquared\n",
    "ytest = LR().fit(COLM,np.array(ft)).predict(COLMTEST)\n",
    "print('nmse = ', nmse(ytest, ftest))\n",
    "print('rsq = ', rsq(ytest,ftest))"
   ]
  },
  {
   "cell_type": "code",
   "execution_count": 38,
   "metadata": {},
   "outputs": [
    {
     "name": "stdout",
     "output_type": "stream",
     "text": [
      "Stored 'PIXEL' (ndarray)\n",
      "Stored 'PIXELTEST' (ndarray)\n"
     ]
    }
   ],
   "source": [
    "#creating the 'pixel' vectors\n",
    "\n",
    "###train\n",
    "PIXEL = prt.reshape((n,x*y))\n",
    "%store PIXEL\n",
    "#test\n",
    "PIXELTEST = prtest.reshape((nt,xt*yt))\n",
    "%store PIXELTEST"
   ]
  },
  {
   "cell_type": "code",
   "execution_count": 40,
   "metadata": {},
   "outputs": [
    {
     "name": "stdout",
     "output_type": "stream",
     "text": [
      "nmse =  121.94386139971552\n",
      "rsq =  0.3902806930014223\n"
     ]
    },
    {
     "data": {
      "text/plain": [
       "0.002754638321607037"
      ]
     },
     "execution_count": 40,
     "metadata": {},
     "output_type": "execute_result"
    }
   ],
   "source": [
    "#linear regression and test mse and rsquared\n",
    "ytest = LR().fit(PIXEL,np.array(ft)).predict(PIXELTEST)\n",
    "print('nmse = ', nmse(ytest, ftest))\n",
    "print('rsq = ', rsq(ytest,ftest))\n",
    "MSE(ytest,ftest)"
   ]
  },
  {
   "cell_type": "code",
   "execution_count": 43,
   "metadata": {},
   "outputs": [
    {
     "data": {
      "text/plain": [
       "0.5623291381874015"
      ]
     },
     "execution_count": 43,
     "metadata": {},
     "output_type": "execute_result"
    }
   ],
   "source": [
    "r2(ytest,ftest)\n"
   ]
  },
  {
   "cell_type": "code",
   "execution_count": null,
   "metadata": {},
   "outputs": [],
   "source": []
  },
  {
   "cell_type": "code",
   "execution_count": null,
   "metadata": {},
   "outputs": [],
   "source": [
    "## add into all the topological methods"
   ]
  }
 ],
 "metadata": {
  "kernelspec": {
   "display_name": "base",
   "language": "python",
   "name": "python3"
  },
  "language_info": {
   "codemirror_mode": {
    "name": "ipython",
    "version": 3
   },
   "file_extension": ".py",
   "mimetype": "text/x-python",
   "name": "python",
   "nbconvert_exporter": "python",
   "pygments_lexer": "ipython3",
   "version": "3.9.13"
  },
  "orig_nbformat": 4
 },
 "nbformat": 4,
 "nbformat_minor": 2
}
